{
 "cells": [
  {
   "cell_type": "code",
   "execution_count": 1,
   "id": "477188fa-7677-4848-a706-f4872da05caf",
   "metadata": {},
   "outputs": [],
   "source": [
    "USERNAME = \"gerald\"\n",
    "PASSWORD = \"ErB%7ngJh9ZVjE0\"\n",
    "\n",
    "import sys\n",
    "sys.path.insert(0, \"/home/koksang/Projects/onchain/dunebuggy\")"
   ]
  },
  {
   "cell_type": "code",
   "execution_count": 2,
   "id": "a0cef314-b1fb-4179-a291-1b728be54c60",
   "metadata": {},
   "outputs": [],
   "source": [
    "from dunebuggy import Dune\n",
    "from dunebuggy.models.query import QueryParameter\n",
    "from dunebuggy.models.constants import ParameterEnum\n",
    "\n",
    "dune = Dune()"
   ]
  },
  {
   "cell_type": "code",
   "execution_count": null,
   "id": "ed9ca626-23ae-4ceb-951d-3b28e1c4c3ab",
   "metadata": {},
   "outputs": [],
   "source": [
    "PROJECT = \"onchain-test1\"\n",
    "DATASET = \"bnb\"\n",
    "# TABLE_PATH = f\"projects/{PROJECT}/datasets/{DATASET}/tables/{TABLE}\"\n",
    "\n",
    "START_TIME = \"2022-12-15 12:00:00\"\n",
    "END_TIME = \"2022-12-15 12:15:00\"\n",
    "LIMIT = \"1000\"\n",
    "\n",
    "BLOCK_QUERY_ID = 1765757\n",
    "TXN_QUERY_ID = 1758880\n",
    "\n",
    "RAW_TABLE = \"bnb.blocks\"\n",
    "\n",
    "parameters = [\n",
    "    QueryParameter(key=\"raw_table\", value=RAW_TABLE, type=ParameterEnum.TEXT),\n",
    "    QueryParameter(key=\"start_time\", value=START_TIME, type=ParameterEnum.DATETIME),\n",
    "    QueryParameter(key=\"end_time\", value=END_TIME, type=ParameterEnum.DATETIME),\n",
    "    QueryParameter(key=\"limit\", value=LIMIT, type=ParameterEnum.TEXT),\n",
    "]\n",
    "\n",
    "q = dune.fetch_query(BLOCK_QUERY_ID, parameters=parameters)"
   ]
  },
  {
   "cell_type": "code",
   "execution_count": null,
   "id": "1a65d651-a9a6-4960-be56-6a336d421907",
   "metadata": {},
   "outputs": [],
   "source": []
  },
  {
   "cell_type": "code",
   "execution_count": 3,
   "id": "11d0c2e0-3879-46aa-abb5-a85d89ba637d",
   "metadata": {},
   "outputs": [
    {
     "ename": "DuneError",
     "evalue": "Dune query failed with code: None and message: query is not allowed",
     "output_type": "error",
     "traceback": [
      "\u001b[0;31m---------------------------------------------------------------------------\u001b[0m",
      "\u001b[0;31mDuneError\u001b[0m                                 Traceback (most recent call last)",
      "Cell \u001b[0;32mIn[3], line 5\u001b[0m\n\u001b[1;32m      2\u001b[0m dune \u001b[38;5;241m=\u001b[39m Dune(USERNAME, PASSWORD)\n\u001b[1;32m      4\u001b[0m query_string \u001b[38;5;241m=\u001b[39m \u001b[38;5;124m\"\u001b[39m\u001b[38;5;124mselect * from ethereum.transactions\u001b[39m\u001b[38;5;130;01m\\n\u001b[39;00m\u001b[38;5;124mLIMIT 100\u001b[39m\u001b[38;5;130;01m\\n\u001b[39;00m\u001b[38;5;124m\"\u001b[39m\n\u001b[0;32m----> 5\u001b[0m created_query \u001b[38;5;241m=\u001b[39m \u001b[43mdune\u001b[49m\u001b[38;5;241;43m.\u001b[39;49m\u001b[43mcreate_query\u001b[49m\u001b[43m(\u001b[49m\u001b[38;5;124;43m\"\u001b[39;49m\u001b[38;5;124;43mMy Query\u001b[39;49m\u001b[38;5;124;43m'\u001b[39;49m\u001b[38;5;124;43ms Name\u001b[39;49m\u001b[38;5;124;43m\"\u001b[39;49m\u001b[43m,\u001b[49m\u001b[43m \u001b[49m\u001b[43mquery_string\u001b[49m\u001b[43m,\u001b[49m\u001b[43m \u001b[49m\u001b[43mDatasetId\u001b[49m\u001b[38;5;241;43m.\u001b[39;49m\u001b[43mETHEREUM\u001b[49m\u001b[43m)\u001b[49m                          \n",
      "File \u001b[0;32m~/Projects/onchain/dunebuggy/dunebuggy/core/dune.py:96\u001b[0m, in \u001b[0;36mDune.create_query\u001b[0;34m(self, query_name, sql, dataset_id, parameters, is_temp)\u001b[0m\n\u001b[1;32m     92\u001b[0m upsert_response \u001b[38;5;241m=\u001b[39m \u001b[38;5;28mself\u001b[39m\u001b[38;5;241m.\u001b[39mgqlquerier\u001b[38;5;241m.\u001b[39mupsert_query(\n\u001b[1;32m     93\u001b[0m     \u001b[38;5;28mobject\u001b[39m, on_conflict, \u001b[38;5;28mself\u001b[39m\u001b[38;5;241m.\u001b[39muser_id\n\u001b[1;32m     94\u001b[0m )\n\u001b[1;32m     95\u001b[0m query_id \u001b[38;5;241m=\u001b[39m upsert_response[\u001b[38;5;124m\"\u001b[39m\u001b[38;5;124mdata\u001b[39m\u001b[38;5;124m\"\u001b[39m][\u001b[38;5;124m\"\u001b[39m\u001b[38;5;124minsert_queries_one\u001b[39m\u001b[38;5;124m\"\u001b[39m][\u001b[38;5;124m\"\u001b[39m\u001b[38;5;124mid\u001b[39m\u001b[38;5;124m\"\u001b[39m]\n\u001b[0;32m---> 96\u001b[0m \u001b[38;5;28;43mself\u001b[39;49m\u001b[38;5;241;43m.\u001b[39;49m\u001b[43mgqlquerier\u001b[49m\u001b[38;5;241;43m.\u001b[39;49m\u001b[43mexecute_query\u001b[49m\u001b[43m(\u001b[49m\u001b[43mparameters\u001b[49m\u001b[43m,\u001b[49m\u001b[43m \u001b[49m\u001b[43mquery_id\u001b[49m\u001b[43m)\u001b[49m\n\u001b[1;32m     98\u001b[0m \u001b[38;5;28;01mreturn\u001b[39;00m \u001b[38;5;28mself\u001b[39m\u001b[38;5;241m.\u001b[39mfetch_query(query_id, parameters)\n",
      "File \u001b[0;32m~/Projects/onchain/dunebuggy/dunebuggy/core/gqlquerier.py:95\u001b[0m, in \u001b[0;36mGraphQLQuerier.execute_query\u001b[0;34m(self, parameters, query_id)\u001b[0m\n\u001b[1;32m     89\u001b[0m \u001b[38;5;28;01mdef\u001b[39;00m \u001b[38;5;21mexecute_query\u001b[39m(\u001b[38;5;28mself\u001b[39m, parameters: \u001b[38;5;28mlist\u001b[39m, query_id: \u001b[38;5;28mint\u001b[39m) \u001b[38;5;241m-\u001b[39m\u001b[38;5;241m>\u001b[39m \u001b[38;5;28;01mNone\u001b[39;00m:\n\u001b[1;32m     90\u001b[0m     \u001b[38;5;66;03m# TODO maybe retry/raise on this? might not need to\u001b[39;00m\n\u001b[1;32m     91\u001b[0m     \u001b[38;5;66;03m# TODO clean up gross parameters handling\u001b[39;00m\n\u001b[1;32m     92\u001b[0m     parameters \u001b[38;5;241m=\u001b[39m [\n\u001b[1;32m     93\u001b[0m         param\u001b[38;5;241m.\u001b[39mdict() \u001b[38;5;28;01mfor\u001b[39;00m param \u001b[38;5;129;01min\u001b[39;00m parameters \u001b[38;5;28;01mif\u001b[39;00m \u001b[38;5;28mtype\u001b[39m(param) \u001b[38;5;241m==\u001b[39m QueryParameter\n\u001b[1;32m     94\u001b[0m     ]\n\u001b[0;32m---> 95\u001b[0m     \u001b[38;5;28;43mself\u001b[39;49m\u001b[38;5;241;43m.\u001b[39;49m\u001b[43mpost_graph_ql\u001b[49m\u001b[43m(\u001b[49m\n\u001b[1;32m     96\u001b[0m \u001b[43m        \u001b[49m\u001b[43mQueryName\u001b[49m\u001b[38;5;241;43m.\u001b[39;49m\u001b[43mEXECUTE_QUERY\u001b[49m\u001b[43m,\u001b[49m\u001b[43m \u001b[49m\u001b[43m{\u001b[49m\u001b[38;5;124;43m\"\u001b[39;49m\u001b[38;5;124;43mquery_id\u001b[39;49m\u001b[38;5;124;43m\"\u001b[39;49m\u001b[43m:\u001b[49m\u001b[43m \u001b[49m\u001b[43mquery_id\u001b[49m\u001b[43m,\u001b[49m\u001b[43m \u001b[49m\u001b[38;5;124;43m\"\u001b[39;49m\u001b[38;5;124;43mparameters\u001b[39;49m\u001b[38;5;124;43m\"\u001b[39;49m\u001b[43m:\u001b[49m\u001b[43m \u001b[49m\u001b[43mparameters\u001b[49m\u001b[43m}\u001b[49m\n\u001b[1;32m     97\u001b[0m \u001b[43m    \u001b[49m\u001b[43m)\u001b[49m\n",
      "File \u001b[0;32m~/Projects/onchain/dunebuggy/dunebuggy/core/gqlquerier.py:40\u001b[0m, in \u001b[0;36mGraphQLQuerier.post_graph_ql\u001b[0;34m(self, query_name, variables, url)\u001b[0m\n\u001b[1;32m     36\u001b[0m \u001b[38;5;28;01mif\u001b[39;00m \u001b[38;5;124m\"\u001b[39m\u001b[38;5;124merrors\u001b[39m\u001b[38;5;124m\"\u001b[39m \u001b[38;5;129;01min\u001b[39;00m response_json:\n\u001b[1;32m     37\u001b[0m     \u001b[38;5;28;01mfor\u001b[39;00m error \u001b[38;5;129;01min\u001b[39;00m response_json[\u001b[38;5;124m\"\u001b[39m\u001b[38;5;124merrors\u001b[39m\u001b[38;5;124m\"\u001b[39m]:\n\u001b[1;32m     38\u001b[0m         \u001b[38;5;66;03m# This is hacky and raising on teh first error only, improve this to\u001b[39;00m\n\u001b[1;32m     39\u001b[0m         \u001b[38;5;66;03m#   return ALL errors from server in one DuneError (DuneMultiError?)\u001b[39;00m\n\u001b[0;32m---> 40\u001b[0m         \u001b[38;5;28;01mraise\u001b[39;00m DuneError(\n\u001b[1;32m     41\u001b[0m             \u001b[38;5;124mf\u001b[39m\u001b[38;5;124m\"\u001b[39m\u001b[38;5;124mDune query failed with code: \u001b[39m\u001b[38;5;132;01m{\u001b[39;00merror\u001b[38;5;241m.\u001b[39mget(\u001b[38;5;124m'\u001b[39m\u001b[38;5;124mcode\u001b[39m\u001b[38;5;124m'\u001b[39m)\u001b[38;5;132;01m}\u001b[39;00m\u001b[38;5;124m and message: \u001b[39m\u001b[38;5;132;01m{\u001b[39;00merror\u001b[38;5;241m.\u001b[39mget(\u001b[38;5;124m'\u001b[39m\u001b[38;5;124mmessage\u001b[39m\u001b[38;5;124m'\u001b[39m)\u001b[38;5;132;01m}\u001b[39;00m\u001b[38;5;124m\"\u001b[39m\n\u001b[1;32m     42\u001b[0m         )\n\u001b[1;32m     43\u001b[0m \u001b[38;5;28;01mreturn\u001b[39;00m response_json\n",
      "\u001b[0;31mDuneError\u001b[0m: Dune query failed with code: None and message: query is not allowed"
     ]
    }
   ],
   "source": [
    "from dunebuggy.models.constants import DatasetId\n",
    "dune = Dune(USERNAME, PASSWORD)\n",
    "\n",
    "query_string = \"select * from ethereum.transactions\\nLIMIT 100\\n\"\n",
    "created_query = dune.create_query(\"My Query's Name\", query_string, DatasetId.ETHEREUM)                          "
   ]
  },
  {
   "cell_type": "code",
   "execution_count": null,
   "id": "86247718-fd0e-4a5f-8b02-22d0e86c7178",
   "metadata": {},
   "outputs": [],
   "source": []
  }
 ],
 "metadata": {
  "kernelspec": {
   "display_name": "Python 3 (ipykernel)",
   "language": "python",
   "name": "python3"
  },
  "language_info": {
   "codemirror_mode": {
    "name": "ipython",
    "version": 3
   },
   "file_extension": ".py",
   "mimetype": "text/x-python",
   "name": "python",
   "nbconvert_exporter": "python",
   "pygments_lexer": "ipython3",
   "version": "3.10.7"
  },
  "vscode": {
   "interpreter": {
    "hash": "fddb8b35a9e849897bc112d832ae5ad9f21a80d46c37a1b2fde7793086286e7b"
   }
  }
 },
 "nbformat": 4,
 "nbformat_minor": 5
}
