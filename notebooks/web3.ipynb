{
 "cells": [
  {
   "cell_type": "code",
   "execution_count": 3,
   "id": "6d9591d4-181b-4d35-a1db-0e90e96d70ae",
   "metadata": {},
   "outputs": [],
   "source": [
    "API_KEY = \"_ehO1kNVSUyqz9ImMEmPgd0KoRzRJrVq\"\n",
    "HTTPS = \"https://polygon-mainnet.g.alchemy.com/v2/_ehO1kNVSUyqz9ImMEmPgd0KoRzRJrVq\"\n",
    "WEBSOCKETS = \"wss://polygon-mainnet.g.alchemy.com/v2/_ehO1kNVSUyqz9ImMEmPgd0KoRzRJrVq\""
   ]
  },
  {
   "cell_type": "code",
   "execution_count": 4,
   "id": "ee754aba-5bea-45aa-bd89-01c8415809b9",
   "metadata": {},
   "outputs": [
    {
     "data": {
      "text/plain": [
       "True"
      ]
     },
     "execution_count": 4,
     "metadata": {},
     "output_type": "execute_result"
    }
   ],
   "source": [
    "# Setup\n",
    "from web3 import Web3\n",
    "from web3.middleware import geth_poa_middleware\n",
    "\n",
    "w3 = Web3(Web3.HTTPProvider(HTTPS))\n",
    "w3.middleware_onion.inject(geth_poa_middleware, layer=0)\n",
    "w3.isConnected()"
   ]
  },
  {
   "cell_type": "code",
   "execution_count": 22,
   "id": "117ec6fe-b09e-440f-8107-7080ff5577a9",
   "metadata": {},
   "outputs": [
    {
     "data": {
      "text/plain": [
       "AttributeDict({'baseFeePerGas': 201029230748,\n",
       " 'difficulty': 23,\n",
       " 'proofOfAuthorityData': HexBytes('0xd682030083626f7288676f312e31392e34856c696e7578000000000000000000d6fb562fcd583457933ee8b4963d328a8a0f6e80a02a028f96fe3313bcc76c426baf30b312b03c0881a2e85297a5e129b8ea10513ef8908464f667015aefc99e00'),\n",
       " 'gasLimit': 25000000,\n",
       " 'gasUsed': 12022130,\n",
       " 'hash': HexBytes('0x5493ac880528eec6df703c665b82c39d9944bcbdddba868c85b35ffa93d8b1aa'),\n",
       " 'logsBloom': HexBytes('0x9ef2440176845ec890eca660b817b1b610530741c2310345da31723e1bf1716a060d72f1e50878c44009307948550a2588109d0a5e07ba003202c5134036a86a390c18493812c048637b080d35a1c3fc16714eac0d4ff50f354ba234e485260c6e620b0196f52cf9a7415d902257186a25215848f99cfa7ba925ea55a61ce61415f122b48c3cc69284510cc6d1268d44501147a740708228be18634e41022c64231063a3309269d88988618e0d120ac0f154846bc29074c7187bb4ec802ce9c7f609160e1618133037139e2c16aafc3631446c0182abb61a287ac300d4696318401da9cd8002940a0a8122d289440821a2c82701a208b4d584a4294836163d01'),\n",
       " 'miner': '0x0000000000000000000000000000000000000000',\n",
       " 'mixHash': HexBytes('0x0000000000000000000000000000000000000000000000000000000000000000'),\n",
       " 'nonce': HexBytes('0x0000000000000000'),\n",
       " 'number': 37142716,\n",
       " 'parentHash': HexBytes('0x33c99ce297a7a1cb870ce4d3ca90280c7d5c7a4e5acb9150605a8b2a10d57921'),\n",
       " 'receiptsRoot': HexBytes('0xc322192cc9536f83eb56038d62c69038dffe0d73feb6543338bc75cd4c8e12e2'),\n",
       " 'sha3Uncles': HexBytes('0x1dcc4de8dec75d7aab85b567b6ccd41ad312451b948a7413f0a142fd40d49347'),\n",
       " 'size': 49031,\n",
       " 'stateRoot': HexBytes('0x34124a1b27dac2070d9bd9d06de6756244d7ea7e09698b849adcb25587062561'),\n",
       " 'timestamp': 1671721352,\n",
       " 'totalDifficulty': 589271236,\n",
       " 'transactions': [HexBytes('0xa781a99f003e0c6e80f9094c14d389baac304fbd48483e9e19ea152525c30624'),\n",
       "  HexBytes('0x6c09c44ded055e1ec40fa67b9bb4fbefdf778f76ec1a89b06275c4611719daf8'),\n",
       "  HexBytes('0x2c5d66c8c2e3488726c5ed36e309fbc744e492c5d596b7a10252483165d2cbd8'),\n",
       "  HexBytes('0x395c55cb131a277535263540ad3a2ac2d6d56ce6dac25ecd610082dd7903bd2c'),\n",
       "  HexBytes('0xe936e8982c6e2005b6f512207f5e1fb88e980de5c1a0a0fa61276330a541716a'),\n",
       "  HexBytes('0x3961880a35fd2f70481f929969be9c8b173a22965845704af919242613c5fbc8'),\n",
       "  HexBytes('0x486994f7858a832f02bc447f9613e6fa66c02b22b9c6001f0746c9dbae65a427'),\n",
       "  HexBytes('0x5422d657299d3c7c8c6ac75ddef95ecfa3c170e3bd0e8c7d10172afe69f5b787'),\n",
       "  HexBytes('0xcc6d9c7f94d438fce0d59f9d0ca0198453e704c2e6a2a20cae477c0c128392f7'),\n",
       "  HexBytes('0x77baf2bf8a6870c45db9e6bb003180b5a484d8c11edc86db8662bec491b626ab'),\n",
       "  HexBytes('0xa3d12e305484b801457153615f168b9acc57fb901dc5d1a77abef87e6330d0f3'),\n",
       "  HexBytes('0xec0ad85429c5e95b4da5bebd3ffc1f66042a3c771cecd2a59bf84c09dbf88e96'),\n",
       "  HexBytes('0x9682b359a2a11d8d9aa99d09f612436f9cd638cac74c3105f3b3c87237aa634d'),\n",
       "  HexBytes('0x610591991c38c9d40f8745b23ab9a11f8f0ec9c9ca53f410813c86be06db1163'),\n",
       "  HexBytes('0x97aa9cf8732bbcd56b278238e9f1fd2d8bed628eb9235d12bd6178ef40a2a761'),\n",
       "  HexBytes('0xcbfbed8142ee64f4f5989fc949c07f731a394478359bb442c264268004815db1'),\n",
       "  HexBytes('0xda5a09b66b0d3a975256fb68290dc44ac92b342f7e4d51f42a9798aef8cd1e6e'),\n",
       "  HexBytes('0xfda763e6f53c1fed776a08180220e9c3548516c22be7d6a0efd539c699413461'),\n",
       "  HexBytes('0xa98ce5558dc4ec919558d6a9b17c935aecf99d1d4144cdbf84c878a73f935061'),\n",
       "  HexBytes('0xc9403692c03e47744ad9e8b066284dc3f24816884ff2df85d9cffa92671fa540'),\n",
       "  HexBytes('0x540db5acff8f43a4a75af68d054eca079592f8b91530088e0dd403749a3111d5'),\n",
       "  HexBytes('0x8b4818328fde556bd33a0ebb5b22d08f2347f4e172aa393b874d9977802213a0'),\n",
       "  HexBytes('0x299736927efc3a136c77f988d9e43a55e948c7be0a0f6aa6d913887cff23a0c8'),\n",
       "  HexBytes('0xd391879d9dec98ac6e534318a262bb2681fc8e89e4427762d4cf8bcd236fe890'),\n",
       "  HexBytes('0x28f8090bc9ef578fe5c58507387e30ddb24a4190c38ba939eb5d59b334c571b6'),\n",
       "  HexBytes('0x8bc6cb62c250c35a44dc99b156e74d049232349a22e0509665200083ac12cf2b'),\n",
       "  HexBytes('0xed8347134eff5b63b06de0875d459e79d662b9318be4562a7a69c9286695d072'),\n",
       "  HexBytes('0xe331173090e43a83ab22f02af6321718393901231ed1237fd55b1e154c606086'),\n",
       "  HexBytes('0x1db38137a942771f8540a78af10e5537d00d496ca120db19d29feec972becf10'),\n",
       "  HexBytes('0x891d9d448b0124c0523f4b4104633a900356ec0c86ff0fffc38abe81361441a0'),\n",
       "  HexBytes('0x01014bb0043b9583d499845b4b54eb7717da2bef4898527467acc5fef1d30625'),\n",
       "  HexBytes('0xb67f611086c079838a0706291d30cf5db5148773807dea4dc34c0ec9f7eba0bf'),\n",
       "  HexBytes('0x9531420aa1d292c17b8c538bf56dd9667cad42acde0f4e4bce9477fd05666da0'),\n",
       "  HexBytes('0xacceef63a973049ea8b977992dbe093bb2fcbe0607c8c724fcadbba035f04623'),\n",
       "  HexBytes('0x60e6f4ffc11c8095d3cc2e66643e4c44a9f57599f15625f1caff2e45ceec8870'),\n",
       "  HexBytes('0x3603c403fde195a0262e273600701dd578b82483e7edcc93ace542f276453c9e'),\n",
       "  HexBytes('0x9c9dd599e58883efe254333a797bcba7b08ed9dc5b1538932898d7c6efb18450'),\n",
       "  HexBytes('0xfa0e15cf98cc1911af40bf2991f1676729740a049b028832e5f6ea160815db2e'),\n",
       "  HexBytes('0x6af8215b12c58980389f0b01b37cf148504a2d4a20b545600c8eae279cb5953b'),\n",
       "  HexBytes('0xc4e69671dc11ea8624d0d2e9384858bc8d40deb4a50c857aa314b7343db467dd'),\n",
       "  HexBytes('0x80a1c606b1e0bdbd39ef9d249d6b80b7af50a111363a19dab1ffcb0968a56938'),\n",
       "  HexBytes('0xa6ee4ad875c9591c60e507c17534e25a080af37e96f4d7893fedf1fe08d3d93d'),\n",
       "  HexBytes('0x97beff904e10e3eca64875e326fd977003a90ad8b8e5f66c6155c08a8f0159fb'),\n",
       "  HexBytes('0xc178332b56d760741e14a14a7d0563ac44f74471b0b676dfd92c27897dcce044'),\n",
       "  HexBytes('0xb82f9986428d588fb2a1a689352cb6907e174a96cfa8c95f98648fc9d3bea40b'),\n",
       "  HexBytes('0x570ed67c52cfe2181ede413e04b90d0214dbce8a843e0430dcca44c6ae50893a'),\n",
       "  HexBytes('0x799a1e74665adae797699c69ebcda46d110de6cd4c5542f0b6078104b58ce9de'),\n",
       "  HexBytes('0xd039120d36145b7534902eeb548ae9c10e65147018db7cd99c9b556b9e6ac359'),\n",
       "  HexBytes('0x78927d284c6a7efa3a028fc7ceb12850a826c3b32c876d5c4469bb6d4980f0c2'),\n",
       "  HexBytes('0x04752be2e92075218f306ad804124c8a3e020251ff0f2c64f5275d04d44b563d'),\n",
       "  HexBytes('0x20bdbebff25f67db813d358afde237731e8561b3bd0f02a77f4ddc1cf9c66b3d'),\n",
       "  HexBytes('0x959318ca484b9b626cb6d36d52f98332a9de9066bfed5e871dedc282a2553918'),\n",
       "  HexBytes('0x7abf27affa45addf7b3883a1760791c4d2d25c1b48efecd8aa7092de456ce786'),\n",
       "  HexBytes('0xf56f942d1b90cb3609733c5f4e9ee16417ac78d5ddfae356b1734f7cacbfdb47'),\n",
       "  HexBytes('0x8bc5037a97987cdf692277990b8e495ba604b6d0baab4f310c65a527dde5349a'),\n",
       "  HexBytes('0xe7c128be745ac661a08cec7259c7f083134923f586cefb2e8cfa242b80e6e5f8'),\n",
       "  HexBytes('0x79f681fff40f9e9f1a7e47c0ccf4455b3c1e476c9576241626c7e146fa10c7a9'),\n",
       "  HexBytes('0xab2dee202d8e78592aa620b637900b6c76aaff26fb016ea2f26c00be189696d7'),\n",
       "  HexBytes('0xfc3336eaa4f2c89b11ddb11fe1981285c230bad3827942aca7a77273196fa7c5'),\n",
       "  HexBytes('0x700265744fbce2d9e86991c6e513acd5e9cba8b9d4a80cf188235bd16b64d114'),\n",
       "  HexBytes('0xae66f9fd1b768ea10782ef9514fe74f02b3fe9bf71e33522475b36084541e57f'),\n",
       "  HexBytes('0x79f7ead1943f50b20710f4b0037acf73cfea079eb5fb0e21a32ca1ddcb72ed2c'),\n",
       "  HexBytes('0xdab86c6a6d8a044ecb222d0d703a771d15a86643ae6463013706694995d7acf1'),\n",
       "  HexBytes('0x7f1bc0ba67c4670d5525d0f606822ccd68864fc525e1a42c3c510fd549793e75'),\n",
       "  HexBytes('0xa55dba1cdb8aadfe252f51f669e6578b37a0a0870882a7f8648dce225d7f5930'),\n",
       "  HexBytes('0x8eedbf8cf289877483f4207f2ef362a94d2e527e872117558e0e8e880c2ae16f'),\n",
       "  HexBytes('0x6f2cf8aa4f38e4c2f4121eb5f1dd80d7b2bbd7ee04fbd958fa6e286d6c3486d7'),\n",
       "  HexBytes('0x4af0e8650e0b4d6ab20a0b81d1e369c404fe94732cb4fc51c1e3d57415538672'),\n",
       "  HexBytes('0x40e0938a3342ff2bab62db2d64da387d12ad3b048c922ae9fb4aba2012d60588'),\n",
       "  HexBytes('0xf761a31becf033518987b9ab26c214275f6686538e509db165a7ed2329ed8fd9'),\n",
       "  HexBytes('0x8efabd86c4bef32eaeb499e35f961e94ca8ca4be1d23d032452808065ddd1128'),\n",
       "  HexBytes('0xd87f70e159e74df3473dc8fe987f3fd7dffd436b4d98058a4589d1a7360970a3'),\n",
       "  HexBytes('0x4bdb5b3eef7b7de021157d56654042a84fee29b0144914d07a87386ef617a1cf'),\n",
       "  HexBytes('0xe4b057ebcc00929fc1e43fc25bf1412776dbc92843119bd56e18441862ef2d7c'),\n",
       "  HexBytes('0x6ac24e9ad72b47631b9dd7f2aa0977d2ca0ed0ca8c71725ddc943af7d6092cf1'),\n",
       "  HexBytes('0x3ca80aaf36b6ed9b267340e20ba7e75693ace1ef0b01d5c33508f82ce9d24c67'),\n",
       "  HexBytes('0x066a2e89d3ab9817eab4b3bdb2782609376da2cc7a10508104d768de49a974c2')],\n",
       " 'transactionsRoot': HexBytes('0x9ca2213e05fcc1fde526370a38ccc6a22c47e8a92f2e6007d5a5380167049db7'),\n",
       " 'uncles': []})"
      ]
     },
     "execution_count": 22,
     "metadata": {},
     "output_type": "execute_result"
    }
   ],
   "source": [
    "block = w3.eth.get_block(\"latest\")\n",
    "block"
   ]
  },
  {
   "cell_type": "code",
   "execution_count": null,
   "id": "71125c88-b47e-4c3e-8945-60616fa0a1c9",
   "metadata": {},
   "outputs": [],
   "source": []
  },
  {
   "cell_type": "code",
   "execution_count": null,
   "id": "c2522f53-1675-4bb0-a89d-7bd49e6c22c3",
   "metadata": {},
   "outputs": [],
   "source": []
  },
  {
   "cell_type": "code",
   "execution_count": null,
   "id": "e83b3410-ecd1-40cb-81f7-db7a9b2e2103",
   "metadata": {},
   "outputs": [],
   "source": []
  },
  {
   "cell_type": "code",
   "execution_count": null,
   "id": "00c46177-e200-4eca-a42e-ca02192489a6",
   "metadata": {},
   "outputs": [],
   "source": [
    "w3 = Web3(Web3.HTTPProvider(HTTPS))\n",
    "  \n",
    "# Print if web3 is successfully connected\n",
    "print(w3.isConnected())\n",
    "\n",
    "# Get the latest block number\n",
    "latest_block = w3.eth.block_number\n",
    "print(latest_block)\n",
    "\n",
    "# Get the balance of an account\n",
    "balance = w3.eth.get_balance('0x742d35Cc6634C0532925a3b844Bc454e4438f44e')\n",
    "print(balance)\n",
    "\n",
    "# Get the information of a transaction\n",
    "tx = w3.eth.get_transaction('0x5c504ed432cb51138bcf09aa5e8a410dd4a1e204ef84bfed1be16dfba1b22060')\n",
    "print(tx)"
   ]
  }
 ],
 "metadata": {
  "kernelspec": {
   "display_name": "Python 3 (ipykernel)",
   "language": "python",
   "name": "python3"
  },
  "language_info": {
   "codemirror_mode": {
    "name": "ipython",
    "version": 3
   },
   "file_extension": ".py",
   "mimetype": "text/x-python",
   "name": "python",
   "nbconvert_exporter": "python",
   "pygments_lexer": "ipython3",
   "version": "3.10.7"
  }
 },
 "nbformat": 4,
 "nbformat_minor": 5
}
