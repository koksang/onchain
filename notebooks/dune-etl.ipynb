{
 "cells": [
  {
   "cell_type": "code",
   "execution_count": 1,
   "id": "b23ab040-665d-43f7-b816-eb301043bc11",
   "metadata": {},
   "outputs": [],
   "source": [
    "PROJECT = \"onchain-test1\"\n",
    "DATASET = \"polygon\"\n",
    "# TABLE_PATH = f\"projects/{PROJECT}/datasets/{DATASET}/tables/{TABLE}\"\n",
    "\n",
    "START_TIME = \"2022-12-15 12:00:00\"\n",
    "END_TIME = \"2022-12-15 13:00:00\"\n",
    "LIMIT = \"all\"\n",
    "\n",
    "BLOCK_QUERY_ID = 1765757\n",
    "TXN_QUERY_ID = 1758880"
   ]
  },
  {
   "cell_type": "code",
   "execution_count": 2,
   "id": "8fbe664d-6600-4905-8e63-7b13993e15c7",
   "metadata": {},
   "outputs": [],
   "source": [
    "import sys, os\n",
    "\n",
    "sys.path.insert(0, os.path.join(os.getcwd(), \"dunebuggy\"))"
   ]
  },
  {
   "cell_type": "code",
   "execution_count": 3,
   "id": "d3b9c282-b70a-4a5d-9e1c-8d030ce417a1",
   "metadata": {},
   "outputs": [],
   "source": [
    "from dunebuggy import Dune\n",
    "from dunebuggy.models.query import QueryParameter\n",
    "\n",
    "dune = Dune()"
   ]
  },
  {
   "cell_type": "markdown",
   "id": "2a0d22ea-cfdb-4347-b3f5-5ebbfae269fb",
   "metadata": {},
   "source": [
    "# Pull blocks"
   ]
  },
  {
   "cell_type": "code",
   "execution_count": 4,
   "id": "930620a1-0e41-4db7-b270-911fa0e8952e",
   "metadata": {},
   "outputs": [],
   "source": [
    "RAW_TABLE = \"bnb.blocks\"\n",
    "\n",
    "parameters = [\n",
    "    QueryParameter(key=\"raw_table\", value=RAW_TABLE),\n",
    "    QueryParameter(key=\"start_time\", value=START_TIME),\n",
    "    QueryParameter(key=\"end_time\", value=END_TIME),\n",
    "    QueryParameter(key=\"limit\", value=LIMIT),\n",
    "]\n",
    "\n",
    "q = dune.fetch_query(BLOCK_QUERY_ID, parameters=parameters)"
   ]
  },
  {
   "cell_type": "code",
   "execution_count": 5,
   "id": "be791b41-2201-4b83-aac5-a46d952c92da",
   "metadata": {},
   "outputs": [
    {
     "data": {
      "text/plain": [
       "{'data': {'get_execution': {'execution_queued': None,\n",
       "   'execution_running': None,\n",
       "   'execution_succeeded': None,\n",
       "   'execution_failed': None}}}"
      ]
     },
     "execution_count": 5,
     "metadata": {},
     "output_type": "execute_result"
    }
   ],
   "source": [
    "q"
   ]
  },
  {
   "cell_type": "code",
   "execution_count": null,
   "id": "b9e3fcd2-b0dc-4d38-879e-ea462758cd04",
   "metadata": {},
   "outputs": [],
   "source": []
  }
 ],
 "metadata": {
  "kernelspec": {
   "display_name": "Python 3 (ipykernel)",
   "language": "python",
   "name": "python3"
  },
  "language_info": {
   "codemirror_mode": {
    "name": "ipython",
    "version": 3
   },
   "file_extension": ".py",
   "mimetype": "text/x-python",
   "name": "python",
   "nbconvert_exporter": "python",
   "pygments_lexer": "ipython3",
   "version": "3.10.7"
  }
 },
 "nbformat": 4,
 "nbformat_minor": 5
}
