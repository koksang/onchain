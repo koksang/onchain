{
 "cells": [
  {
   "cell_type": "code",
   "execution_count": 8,
   "id": "477188fa-7677-4848-a706-f4872da05caf",
   "metadata": {},
   "outputs": [],
   "source": [
    "USERNAME = \"gerald\"\n",
    "PASSWORD = \"\""
   ]
  },
  {
   "cell_type": "code",
   "execution_count": 9,
   "id": "a0cef314-b1fb-4179-a291-1b728be54c60",
   "metadata": {},
   "outputs": [
    {
     "data": {
      "text/plain": [
       "154941"
      ]
     },
     "execution_count": 9,
     "metadata": {},
     "output_type": "execute_result"
    }
   ],
   "source": [
    "from dunebuggy import Dune\n",
    "dune = Dune(USERNAME, PASSWORD)\n",
    "dune.user_id"
   ]
  },
  {
   "cell_type": "code",
   "execution_count": 10,
   "id": "ed9ca626-23ae-4ceb-951d-3b28e1c4c3ab",
   "metadata": {},
   "outputs": [],
   "source": [
    "q = dune.fetch_query(1765757)"
   ]
  },
  {
   "cell_type": "code",
   "execution_count": 11,
   "id": "ab61bed2-876f-419b-9372-c33311052dde",
   "metadata": {},
   "outputs": [
    {
     "data": {
      "text/plain": [
       "[{'hash': '0x7a881687b4c4ed1f7f7150d842c53b9590461b41f93f92a51c4f19fb0007ae04',\n",
       "  'size': 33577,\n",
       "  'time': '2022-12-15 00:00:14.000 UTC',\n",
       "  'miner': '0x8b6c8fd93d6f4cea42bbb345dbc6f0dfdb5bec73',\n",
       "  'nonce': '0x0000000000000000',\n",
       "  'number': 23910651,\n",
       "  'gas_used': '18345575',\n",
       "  'gas_limit': '140000000',\n",
       "  'difficulty': 2,\n",
       "  'parent_hash': '0xa110f1eea391ead334c5c8491b7e700528fdad0a695b1d7c210eb325e71cb003',\n",
       "  'base_fee_per_gas': None,\n",
       "  'total_difficulty': '47528526'},\n",
       " {'hash': '0x144836d227261d68f9a6bd0e2007d68dc44c583af0664d1189bda5055409db09',\n",
       "  'size': 30129,\n",
       "  'time': '2022-12-15 00:00:02.000 UTC',\n",
       "  'miner': '0x685b1ded8013785d6623cc18d214320b6bb64759',\n",
       "  'nonce': '0x0000000000000000',\n",
       "  'number': 23910647,\n",
       "  'gas_used': '16949792',\n",
       "  'gas_limit': '140000000',\n",
       "  'difficulty': 2,\n",
       "  'parent_hash': '0x1f1b754142484394556162d00f91cc53d1ee142bf8866449a23ec91adef807c9',\n",
       "  'base_fee_per_gas': None,\n",
       "  'total_difficulty': '47528518'},\n",
       " {'hash': '0xa110f1eea391ead334c5c8491b7e700528fdad0a695b1d7c210eb325e71cb003',\n",
       "  'size': 35610,\n",
       "  'time': '2022-12-15 00:00:11.000 UTC',\n",
       "  'miner': '0x7ae2f5b9e386cd1b50a4550696d957cb4900f03a',\n",
       "  'nonce': '0x0000000000000000',\n",
       "  'number': 23910650,\n",
       "  'gas_used': '17863502',\n",
       "  'gas_limit': '139997863',\n",
       "  'difficulty': 2,\n",
       "  'parent_hash': '0x034691e9567df2cef8afbfa7256f02b9f7f32fca54c5e7e8536502cb48a9b1bf',\n",
       "  'base_fee_per_gas': None,\n",
       "  'total_difficulty': '47528524'},\n",
       " {'hash': '0x034691e9567df2cef8afbfa7256f02b9f7f32fca54c5e7e8536502cb48a9b1bf',\n",
       "  'size': 38911,\n",
       "  'time': '2022-12-15 00:00:08.000 UTC',\n",
       "  'miner': '0x72b61c6014342d914470ec7ac2975be345796c2b',\n",
       "  'nonce': '0x0000000000000000',\n",
       "  'number': 23910649,\n",
       "  'gas_used': '16269132',\n",
       "  'gas_limit': '139453126',\n",
       "  'difficulty': 2,\n",
       "  'parent_hash': '0x273765216951fc8fd073d5ed889df236dd94552e1304db5042b74807ef68f4b3',\n",
       "  'base_fee_per_gas': None,\n",
       "  'total_difficulty': '47528522'},\n",
       " {'hash': '0x273765216951fc8fd073d5ed889df236dd94552e1304db5042b74807ef68f4b3',\n",
       "  'size': 33985,\n",
       "  'time': '2022-12-15 00:00:05.000 UTC',\n",
       "  'miner': '0x70f657164e5b75689b64b7fd1fa275f334f28e18',\n",
       "  'nonce': '0x0000000000000000',\n",
       "  'number': 23910648,\n",
       "  'gas_used': '21921017',\n",
       "  'gas_limit': '140000000',\n",
       "  'difficulty': 2,\n",
       "  'parent_hash': '0x144836d227261d68f9a6bd0e2007d68dc44c583af0664d1189bda5055409db09',\n",
       "  'base_fee_per_gas': None,\n",
       "  'total_difficulty': '47528520'},\n",
       " {'hash': '0x6e224201d6b884913fa48e81fbf5f2c4216e8e1b5e6653c0b85d98b1fa535c9b',\n",
       "  'size': 29706,\n",
       "  'time': '2022-12-15 00:00:20.000 UTC',\n",
       "  'miner': '0xac0e15a038eedfc68ba3c35c73fed5be4a07afb5',\n",
       "  'nonce': '0x0000000000000000',\n",
       "  'number': 23910653,\n",
       "  'gas_used': '10870437',\n",
       "  'gas_limit': '138908389',\n",
       "  'difficulty': 2,\n",
       "  'parent_hash': '0x5ce69fbf6abaf5749810e75977054841f4d0a75bdc43cff99866f8b6de8ed66e',\n",
       "  'base_fee_per_gas': None,\n",
       "  'total_difficulty': '47528530'},\n",
       " {'hash': '0x5ce69fbf6abaf5749810e75977054841f4d0a75bdc43cff99866f8b6de8ed66e',\n",
       "  'size': 31345,\n",
       "  'time': '2022-12-15 00:00:17.000 UTC',\n",
       "  'miner': '0x9f8ccdafcc39f3c7d6ebf637c9151673cbc36b88',\n",
       "  'nonce': '0x0000000000000000',\n",
       "  'number': 23910652,\n",
       "  'gas_used': '17069058',\n",
       "  'gas_limit': '139453126',\n",
       "  'difficulty': 2,\n",
       "  'parent_hash': '0x7a881687b4c4ed1f7f7150d842c53b9590461b41f93f92a51c4f19fb0007ae04',\n",
       "  'base_fee_per_gas': None,\n",
       "  'total_difficulty': '47528528'},\n",
       " {'hash': '0xcc36d820596f6ae9b5e7b48dfd4b489faa20f9dfff94d2ec6e94b9b4f6cd78d5',\n",
       "  'size': 47823,\n",
       "  'time': '2022-12-15 00:00:26.000 UTC',\n",
       "  'miner': '0xbe807dddb074639cd9fa61b47676c064fc50d62c',\n",
       "  'nonce': '0x0000000000000000',\n",
       "  'number': 23910655,\n",
       "  'gas_used': '18775071',\n",
       "  'gas_limit': '138906270',\n",
       "  'difficulty': 2,\n",
       "  'parent_hash': '0xcb521ed2d2afaa734f61127288476a7ae3926a4b40ee2ed560ca3251371fa9d5',\n",
       "  'base_fee_per_gas': None,\n",
       "  'total_difficulty': '47528534'},\n",
       " {'hash': '0xcb521ed2d2afaa734f61127288476a7ae3926a4b40ee2ed560ca3251371fa9d5',\n",
       "  'size': 46043,\n",
       "  'time': '2022-12-15 00:00:23.000 UTC',\n",
       "  'miner': '0xb218c5d6af1f979ac42bc68d98a5a0d796c6ab01',\n",
       "  'nonce': '0x0000000000000000',\n",
       "  'number': 23910654,\n",
       "  'gas_used': '19364326',\n",
       "  'gas_limit': '138365780',\n",
       "  'difficulty': 2,\n",
       "  'parent_hash': '0x6e224201d6b884913fa48e81fbf5f2c4216e8e1b5e6653c0b85d98b1fa535c9b',\n",
       "  'base_fee_per_gas': None,\n",
       "  'total_difficulty': '47528532'},\n",
       " {'hash': '0x381755ef702b7f6257adf1a693271969b8168bfd7b0368ea6218741ab99d32fe',\n",
       "  'size': 35141,\n",
       "  'time': '2022-12-15 00:00:47.000 UTC',\n",
       "  'miner': '0xef0274e31810c9df02f98fafde0f841f4e66a1cd',\n",
       "  'nonce': '0x0000000000000000',\n",
       "  'number': 23910662,\n",
       "  'gas_used': '10564503',\n",
       "  'gas_limit': '140000000',\n",
       "  'difficulty': 2,\n",
       "  'parent_hash': '0xbec47127a9e0d58698aefc874a4c6b337e0a1aa22d1e1bf3dfabea33fa3c43e5',\n",
       "  'base_fee_per_gas': None,\n",
       "  'total_difficulty': '47528548'}]"
      ]
     },
     "execution_count": 11,
     "metadata": {},
     "output_type": "execute_result"
    }
   ],
   "source": [
    "q.data"
   ]
  },
  {
   "cell_type": "code",
   "execution_count": null,
   "id": "12ac91b2-ca9d-4667-84ee-1b25bb27141a",
   "metadata": {},
   "outputs": [],
   "source": []
  }
 ],
 "metadata": {
  "kernelspec": {
   "display_name": "Python 3",
   "language": "python",
   "name": "python3"
  },
  "language_info": {
   "codemirror_mode": {
    "name": "ipython",
    "version": 3
   },
   "file_extension": ".py",
   "mimetype": "text/x-python",
   "name": "python",
   "nbconvert_exporter": "python",
   "pygments_lexer": "ipython3",
   "version": "3.11.0 (main, Oct 25 2022, 17:28:02) [GCC 11.2.0]"
  },
  "vscode": {
   "interpreter": {
    "hash": "fddb8b35a9e849897bc112d832ae5ad9f21a80d46c37a1b2fde7793086286e7b"
   }
  }
 },
 "nbformat": 4,
 "nbformat_minor": 5
}
